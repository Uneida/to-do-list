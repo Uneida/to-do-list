{
  "cells": [
    {
      "cell_type": "markdown",
      "metadata": {
        "id": "view-in-github",
        "colab_type": "text"
      },
      "source": [
        "<a href=\"https://colab.research.google.com/github/Uneida/to-do-list/blob/master/programacao-orientada-a-objetos/POO_Aula1a.ipynb\" target=\"_parent\"><img src=\"https://colab.research.google.com/assets/colab-badge.svg\" alt=\"Open In Colab\"/></a>"
      ]
    },
    {
      "cell_type": "markdown",
      "metadata": {
        "id": "6Pb-hJW2yNrv"
      },
      "source": [
        "# Programação Orientada a Objetos - Prof. Tatiana Escovedo\n",
        "\n",
        "---\n",
        "\n",
        "## Aula 01: Introdução a Python e Orientação a Objetos\n",
        "\n",
        "### Prática 1: Introdução à Linguagem Python"
      ]
    },
    {
      "cell_type": "markdown",
      "metadata": {
        "id": "jr3OyKENz22_"
      },
      "source": [
        "## Básico de Python"
      ]
    },
    {
      "cell_type": "markdown",
      "metadata": {
        "id": "HPGhHXNF1wHL"
      },
      "source": [
        "## Primeiro Programa"
      ]
    },
    {
      "cell_type": "code",
      "execution_count": null,
      "metadata": {
        "id": "Hak_MlsisPH6",
        "colab": {
          "base_uri": "https://localhost:8080/"
        },
        "outputId": "5292cece-890f-4c39-befe-fb4e44a43860"
      },
      "outputs": [
        {
          "output_type": "stream",
          "name": "stdout",
          "text": [
            "Hello, World!\n"
          ]
        }
      ],
      "source": [
        "# Isto é um comentário de apenas uma linha\n",
        "print(\"Hello, World!\")"
      ]
    },
    {
      "cell_type": "markdown",
      "metadata": {
        "id": "VPJhZYydih_M"
      },
      "source": [
        "### Zen do Python"
      ]
    },
    {
      "cell_type": "code",
      "execution_count": null,
      "metadata": {
        "id": "FAungPg7ivwd"
      },
      "outputs": [],
      "source": [
        "import this"
      ]
    },
    {
      "cell_type": "markdown",
      "metadata": {
        "id": "ZFQcPUw-1yBK"
      },
      "source": [
        "## Variáveis"
      ]
    },
    {
      "cell_type": "code",
      "execution_count": null,
      "metadata": {
        "id": "LsTCAdS-0VTN"
      },
      "outputs": [],
      "source": [
        "# Variáveis: Definição e tipos\n",
        "\n",
        "# Declarando 4 variáveis e atribuindo valores a elas\n",
        "uma_string = \"Aluno\"\n",
        "um_inteiro = 7\n",
        "um_float = 7.584\n",
        "um_booleano = True\n",
        "\n",
        "# Imprimindo o valor e o tipo de uma das variáveis\n",
        "print(um_float)\n",
        "print(type(um_float))"
      ]
    },
    {
      "cell_type": "code",
      "execution_count": null,
      "metadata": {
        "id": "pJrSlM8M0d4P"
      },
      "outputs": [],
      "source": [
        "# Casting: Convertendo a variável do tipo float para int e para string\n",
        "print(int(um_float))\n",
        "print(str(um_float))"
      ]
    },
    {
      "cell_type": "code",
      "execution_count": null,
      "metadata": {
        "id": "VgoVTn6I0jnr"
      },
      "outputs": [],
      "source": [
        "# Operações Aritméticas\n",
        "\n",
        "# Soma, Subtração, Multiplicação e Divisão\n",
        "resultado_1 = 7 + 5\n",
        "resultado_2 = um_inteiro - resultado_1\n",
        "resultado_3 = resultado_2 * 3\n",
        "resultado_4 = resultado_3 / 4\n",
        "\n",
        "# Imprimindo os resultados concatenando uma string com o resultado numérico\n",
        "print(\"Resultado da soma = \" + str(resultado_1))\n",
        "print(\"Resultado da subtração = \" + str(resultado_2))\n",
        "print(\"Resultado da multiplicação = \" + str(resultado_3))\n",
        "print(\"Resultado da divisão = \" + str(resultado_4))\n",
        "\n",
        "# Potenciação e Resto da Divisão\n",
        "resultado_5 = 2 ** 4\n",
        "resultado_6 = 13 % 4\n",
        "\n",
        "# Imprimindo os resultados concatenando uma string com o resultado numérico\n",
        "print(\"Resultado da potenciação = \" + str(resultado_5))\n",
        "print(\"Resultado do resto da divisão = \" + str(resultado_6))"
      ]
    },
    {
      "cell_type": "code",
      "execution_count": null,
      "metadata": {
        "id": "KXm84FqH082m"
      },
      "outputs": [],
      "source": [
        "# Incremento e Decremento\n",
        "\n",
        "# Decrementando 3 unidades\n",
        "um_inteiro -= 3\n",
        "print(\"Resultado: \" + str(um_inteiro)) # 7 - 3 = 4 --> agora um_inteiro é 4\n",
        "\n",
        "# Incrementando 5 unidades\n",
        "um_inteiro += 5\n",
        "print(\"Resultado: \" + str(um_inteiro)) # 4 + 5 = 9 --> agora um_inteiro é 9"
      ]
    },
    {
      "cell_type": "code",
      "execution_count": null,
      "metadata": {
        "id": "JiS7vrGU1Cpr"
      },
      "outputs": [],
      "source": [
        "# Operadores de Igualdade\n",
        "\n",
        "variavel_um = 1\n",
        "variavel_dois = 2\n",
        "variavel_tres = 3\n",
        "\n",
        "print(1 == variavel_um)\n",
        "print(2 == variavel_um)\n",
        "\n",
        "equal = (variavel_um == variavel_dois) # os () são opcionais neste caso, mas ajudam a legibilidade\n",
        "not_equal = (variavel_um != variavel_dois)\n",
        "\n",
        "print(\"Um é igual a dois? \" + str(equal))\n",
        "print(\"Um é diferente de dois? \" + str(not_equal))\n",
        "\n",
        "# Operadores de Comparação\n",
        "\n",
        "print(\"Um é maior do que dois? \" + str(variavel_um > variavel_dois))\n",
        "print(\"Um é menor do que dois? \" + str(variavel_um < variavel_dois))"
      ]
    },
    {
      "cell_type": "code",
      "source": [
        "# Operadores Lógicos and (e) e or (ou)\n",
        "\n",
        "print((2 > 1) and (3 < 5)) # V V\n",
        "print((2 > 1) and (1 > 3)) # V F\n",
        "\n",
        "print((3 < 5) or (2 > 1)) # V V\n",
        "print((0 > 1) or (0 == -1)) # F F\n",
        "print((0 < 1) or (0 == -1)) # V F"
      ],
      "metadata": {
        "id": "p93HoMcrfPTV"
      },
      "execution_count": null,
      "outputs": []
    },
    {
      "cell_type": "markdown",
      "metadata": {
        "id": "BTEQ7Jkg1oHS"
      },
      "source": [
        "## Strings"
      ]
    },
    {
      "cell_type": "code",
      "execution_count": 1,
      "metadata": {
        "id": "3r2MgilR1is2",
        "outputId": "20d8626f-3338-468d-8e67-2913802a8578",
        "colab": {
          "base_uri": "https://localhost:8080/"
        }
      },
      "outputs": [
        {
          "output_type": "stream",
          "name": "stdout",
          "text": [
            "Programação OO\n"
          ]
        }
      ],
      "source": [
        "# Concatenação\n",
        "\n",
        "programacao = \"Programação\" # pode ser tanto delimitada por aspas duplas...\n",
        "oo = 'OO' #... quanto por aspas simples, mas sempre combinando\n",
        "programacao_oo = programacao + \" \" + oo\n",
        "print(programacao_oo)"
      ]
    },
    {
      "cell_type": "code",
      "execution_count": 2,
      "metadata": {
        "id": "cbM5SOHW2h3n",
        "outputId": "c6365bc3-4da1-4240-9cdb-a463bbf7d6cb",
        "colab": {
          "base_uri": "https://localhost:8080/"
        }
      },
      "outputs": [
        {
          "output_type": "stream",
          "name": "stdout",
          "text": [
            "14\n"
          ]
        }
      ],
      "source": [
        "# Tamanho\n",
        "\n",
        "print(len(programacao_oo))"
      ]
    },
    {
      "cell_type": "code",
      "execution_count": 3,
      "metadata": {
        "id": "dU--FJa32EK8",
        "outputId": "08ba97ef-628e-4a2d-c2a2-0011bffca564",
        "colab": {
          "base_uri": "https://localhost:8080/"
        }
      },
      "outputs": [
        {
          "output_type": "stream",
          "name": "stdout",
          "text": [
            "h\n",
            "!\n",
            "o\n",
            "Pyth\n",
            "uito divertido!\n",
            "n é m\n",
            "Python é muito divertido!\n"
          ]
        }
      ],
      "source": [
        "# Indexação e Substrings\n",
        "\n",
        "frase = \"Python é muito divertido!\"\n",
        "\n",
        "# A indexação começa com 0\n",
        "print(frase[3])\n",
        "\n",
        "# use -1 para pegar a última letra\n",
        "print(frase[-1])\n",
        "\n",
        "# -2 pega a penúltima letra\n",
        "print(frase[-2])\n",
        "\n",
        "# string[start:end] - end não é incluso\n",
        "print(frase[:4])\n",
        "print(frase[10:])\n",
        "print(frase[5:10])\n",
        "print(frase[:])"
      ]
    },
    {
      "cell_type": "code",
      "execution_count": 4,
      "metadata": {
        "id": "dIQsp6sR2Dvq",
        "outputId": "e5af206e-4faf-49f4-b6c7-6976dfaf87ba",
        "colab": {
          "base_uri": "https://localhost:8080/"
        }
      },
      "outputs": [
        {
          "output_type": "stream",
          "name": "stdout",
          "text": [
            "oláoláoláoláoláoláolá\n"
          ]
        }
      ],
      "source": [
        "# Multiplicação de uma string por um número\n",
        "\n",
        "ola = \"olá\"\n",
        "sete_olas = ola * 7\n",
        "print(sete_olas)"
      ]
    },
    {
      "cell_type": "code",
      "execution_count": 5,
      "metadata": {
        "id": "lqYdd5lw2gdg",
        "outputId": "1844be1d-a352-412f-fea6-5d5efb8e2e65",
        "colab": {
          "base_uri": "https://localhost:8080/"
        }
      },
      "outputs": [
        {
          "output_type": "stream",
          "name": "stdout",
          "text": [
            "True\n",
            "False\n",
            "False\n"
          ]
        }
      ],
      "source": [
        "# Operador in\n",
        "\n",
        "programacao_python = \"Programação em Python\"\n",
        "\n",
        "# checa se a string contém \"Python\"\n",
        "print(\"Python\" in programacao_python)\n",
        "\n",
        "# checa se a string contém \"python\"\n",
        "print(\"python\" in programacao_python)\n",
        "\n",
        "# checa se a string contém \"abacate\"\n",
        "print(\"abacate\" in programacao_python)"
      ]
    },
    {
      "cell_type": "code",
      "execution_count": 6,
      "metadata": {
        "id": "FmHXDp3I2iEQ",
        "outputId": "15453cf6-f428-4152-ae78-aedd3e6b433b",
        "colab": {
          "base_uri": "https://localhost:8080/"
        }
      },
      "outputs": [
        {
          "output_type": "stream",
          "name": "stdout",
          "text": [
            "Estou estudando\n",
            "Programação em Python\n"
          ]
        }
      ],
      "source": [
        "# Escaping\n",
        "\n",
        "print(\"Estou estudando\\n\" + programacao_python) # \\n = nova linha"
      ]
    },
    {
      "cell_type": "code",
      "execution_count": 7,
      "metadata": {
        "id": "93Yn1Ghp2iJ6",
        "outputId": "f335726f-6d9d-4cec-cbc4-468904e57184",
        "colab": {
          "base_uri": "https://localhost:8080/"
        }
      },
      "outputs": [
        {
          "output_type": "stream",
          "name": "stdout",
          "text": [
            "programação em python\n",
            "PROGRAMAÇÃO EM PYTHON\n",
            "Aula de python\n"
          ]
        }
      ],
      "source": [
        "# Maiúsculas e Minúsculas\n",
        "\n",
        "print(programacao_python.lower()) # todas minúsculas\n",
        "print(programacao_python.upper()) # todas maiúsculas\n",
        "\n",
        "tudo_minuscula = \"aula de python\"\n",
        "print(tudo_minuscula.capitalize()) # primeira letra maiúscula"
      ]
    },
    {
      "cell_type": "code",
      "execution_count": 8,
      "metadata": {
        "id": "CiSlIYXM2iPQ",
        "outputId": "1739308f-d256-4e03-83c4-9c25bc47996d",
        "colab": {
          "base_uri": "https://localhost:8080/"
        }
      },
      "outputs": [
        {
          "output_type": "stream",
          "name": "stdout",
          "text": [
            "Olá, meu nome é Belinha! Tenho 7 anos e 7 reais\n",
            "Olá, meu nome é Belinha! Tenho 7 anos e 7.584000 reais\n",
            "Olá, meu nome é Belinha! Tenho 7 anos e 7.58 reais\n"
          ]
        }
      ],
      "source": [
        "# Formatação\n",
        "\n",
        "nome = \"Belinha\"\n",
        "numero_inteiro = 7\n",
        "numero_decimal = 7.584\n",
        "\n",
        "print(\"Olá, meu nome é %s! Tenho %d anos e %d reais\" % (nome, numero_inteiro, numero_decimal)) # float impresso como int\n",
        "print(\"Olá, meu nome é %s! Tenho %d anos e %f reais\" % (nome, numero_inteiro, numero_decimal)) # float impresso como float\n",
        "print(\"Olá, meu nome é %s! Tenho %d anos e %.2f reais\" % (nome, numero_inteiro, numero_decimal)) # float impresso como float com 2 casas decimais"
      ]
    },
    {
      "cell_type": "markdown",
      "metadata": {
        "id": "FP8eDc063Tvr"
      },
      "source": [
        "## Coleções"
      ]
    },
    {
      "cell_type": "code",
      "execution_count": 9,
      "metadata": {
        "id": "TMVhEgzH3VHP",
        "outputId": "7348f012-1bed-44f3-b14b-3c2ee8507dd8",
        "colab": {
          "base_uri": "https://localhost:8080/"
        }
      },
      "outputs": [
        {
          "output_type": "stream",
          "name": "stdout",
          "text": [
            "[1, 10, 100, 1000]\n",
            "100\n"
          ]
        }
      ],
      "source": [
        "# Listas\n",
        "\n",
        "numeros = [1, 10, 100, 1000]\n",
        "print(numeros)\n",
        "\n",
        "# imprimir o elemento de índice 2 - inicia no 0\n",
        "print(numeros[2])"
      ]
    },
    {
      "cell_type": "code",
      "source": [
        "# Operações de Listas\n",
        "\n",
        "# incluir 2 itens na lista usando +=\n",
        "numeros += [10000, 100000]\n",
        "print(numeros)\n",
        "\n",
        "# incluir 1 item na lista usando append\n",
        "numeros.append(1000000)\n",
        "print(numeros)\n",
        "\n",
        "# substituir os itens nas posições 1 e 2 por 7\n",
        "# [índice_incluído:índice_excluído]\n",
        "numeros[1:3] = [7]\n",
        "print(numeros)\n",
        "\n",
        "# remover os itens nas posições 1 e 2 da lista\n",
        "numeros[1:3] = []\n",
        "print(numeros)\n",
        "\n",
        "# tamanho da lista\n",
        "print(len(numeros))"
      ],
      "metadata": {
        "id": "0zEBeDXhEJrl",
        "outputId": "a8c45602-7ade-45d7-c120-fd71a3563430",
        "colab": {
          "base_uri": "https://localhost:8080/"
        }
      },
      "execution_count": 10,
      "outputs": [
        {
          "output_type": "stream",
          "name": "stdout",
          "text": [
            "[1, 10, 100, 1000, 10000, 100000]\n",
            "[1, 10, 100, 1000, 10000, 100000, 1000000]\n",
            "[1, 7, 1000, 10000, 100000, 1000000]\n",
            "[1, 10000, 100000, 1000000]\n",
            "4\n"
          ]
        }
      ]
    },
    {
      "cell_type": "code",
      "execution_count": 11,
      "metadata": {
        "id": "-YQlCOCB3oQB",
        "outputId": "a1ce6601-ac53-4279-f079-e17bc7a1c855",
        "colab": {
          "base_uri": "https://localhost:8080/"
        }
      },
      "outputs": [
        {
          "output_type": "stream",
          "name": "stdout",
          "text": [
            "('copas', 'ouros', 'espadas', 'paus')\n"
          ]
        }
      ],
      "source": [
        "# Tuplas\n",
        "\n",
        "naipes = ('copas', 'ouros', 'espadas', 'paus')\n",
        "print(naipes)"
      ]
    },
    {
      "cell_type": "code",
      "source": [
        "# Dicionários\n",
        "\n",
        "# criar e imprimir um dicionário\n",
        "notas = {\"Ana\": 8, \"Maria\": 5, \"Thais\": 10}\n",
        "print(notas)\n",
        "\n",
        "# acessar o valor correspondente à chave \"Thais\"\n",
        "print(notas[\"Thais\"])\n",
        "\n",
        "# incluir novo item\n",
        "notas[\"Zaira\"] = 9\n",
        "print(notas)\n",
        "\n",
        "# remover item\n",
        "del notas[\"Thais\"]\n",
        "print(notas)\n",
        "\n",
        "# checar se notas contém o item \"Maria\"\n",
        "print(\"Maria\" in notas)"
      ],
      "metadata": {
        "id": "Pr-1emMbE3Ej",
        "outputId": "2a064e23-2b62-45b3-f859-bef3a00b70d8",
        "colab": {
          "base_uri": "https://localhost:8080/"
        }
      },
      "execution_count": 12,
      "outputs": [
        {
          "output_type": "stream",
          "name": "stdout",
          "text": [
            "{'Ana': 8, 'Maria': 5, 'Thais': 10}\n",
            "10\n",
            "{'Ana': 8, 'Maria': 5, 'Thais': 10, 'Zaira': 9}\n",
            "{'Ana': 8, 'Maria': 5, 'Zaira': 9}\n",
            "True\n"
          ]
        }
      ]
    },
    {
      "cell_type": "markdown",
      "metadata": {
        "id": "FgvuadFJ44he"
      },
      "source": [
        "## Condições"
      ]
    },
    {
      "cell_type": "code",
      "execution_count": 13,
      "metadata": {
        "id": "zc7SmL9B5Rkk",
        "outputId": "a3165abf-e8d2-4f74-d970-c8428495cbb8",
        "colab": {
          "base_uri": "https://localhost:8080/"
        }
      },
      "outputs": [
        {
          "output_type": "stream",
          "name": "stdout",
          "text": [
            "Passou!\n",
            "Passou de novo!\n",
            "Ana tem 25 anos\n"
          ]
        }
      ],
      "source": [
        "nome = \"Ana\"\n",
        "idade = 25\n",
        "\n",
        "# Comando if (condição se)\n",
        "\n",
        "if nome == \"Ana\": # V\n",
        "    print(\"Passou!\")\n",
        "\n",
        "if nome == \"Ana\" or idade == 17:   # V ou V = V\n",
        "    print(\"Passou de novo!\")\n",
        "    print(\"%s tem %d anos\" %(nome, idade))"
      ]
    },
    {
      "cell_type": "code",
      "source": [
        "# Comandos if, elif e else\n",
        "\n",
        "dias = [\"sábado\", \"domingo\"]\n",
        "if len(dias) == 0:\n",
        "    print(\"Lista vazia\")\n",
        "elif len(dias) == 1:\n",
        "    print(\"Só um dia\")\n",
        "else:\n",
        "    print(\"Tamanho %d\" % len(dias))"
      ],
      "metadata": {
        "id": "fAW1ZQ3ohzCM",
        "outputId": "e8c38ae7-b0c0-4e76-d876-8731e4198daa",
        "colab": {
          "base_uri": "https://localhost:8080/"
        }
      },
      "execution_count": 14,
      "outputs": [
        {
          "output_type": "stream",
          "name": "stdout",
          "text": [
            "Tamanho 2\n"
          ]
        }
      ]
    },
    {
      "cell_type": "markdown",
      "metadata": {
        "id": "eVsm3csc5eN7"
      },
      "source": [
        "## Loops"
      ]
    },
    {
      "cell_type": "code",
      "execution_count": 15,
      "metadata": {
        "id": "Qu5LEeRb5uPf",
        "outputId": "e6285880-1128-4bf8-bc87-be1c0f0a57df",
        "colab": {
          "base_uri": "https://localhost:8080/"
        }
      },
      "outputs": [
        {
          "output_type": "stream",
          "name": "stdout",
          "text": [
            "0\n",
            "1\n",
            "2\n",
            "3\n",
            "4\n",
            "5\n"
          ]
        }
      ],
      "source": [
        "# Loop for\n",
        "for i in range(6):\n",
        "    print(i)\n",
        "\n",
        "# OBS: A função range() pode ser representada de três formas diferentes:\n",
        "# range(stop_value) : Considera o ponto inicial como zero.\n",
        "# range(start_value, stop_value) : Gera a sequência com base no valor inicial e final.\n",
        "# range(start_value, stop_value, step_size): Gera a sequência incrementando o valor inicial usando o tamanho do passo até atingir o valor final."
      ]
    },
    {
      "cell_type": "code",
      "source": [
        "# Loop for - outro exemplo\n",
        "pares = [2, 4, 6, 8]\n",
        "for i in range(len(pares)):\n",
        "    print(\"Índice %d - Valor %d \" % (i, pares[i]))"
      ],
      "metadata": {
        "id": "ehCk__XdiQCH",
        "outputId": "d2891b9b-776c-40a8-ca4e-7f6df04f87ec",
        "colab": {
          "base_uri": "https://localhost:8080/"
        }
      },
      "execution_count": 19,
      "outputs": [
        {
          "output_type": "stream",
          "name": "stdout",
          "text": [
            "Índice 0 - Valor 2 \n",
            "Índice 1 - Valor 4 \n",
            "Índice 2 - Valor 6 \n",
            "Índice 3 - Valor 8 \n"
          ]
        }
      ]
    },
    {
      "cell_type": "code",
      "execution_count": 20,
      "metadata": {
        "id": "VcECdMpc6DHB",
        "outputId": "83cb5b72-f564-47b8-9ac4-381752058391",
        "colab": {
          "base_uri": "https://localhost:8080/"
        }
      },
      "outputs": [
        {
          "output_type": "stream",
          "name": "stdout",
          "text": [
            "H\n",
            "e\n",
            "l\n",
            "l\n",
            "o\n",
            ",\n",
            " \n",
            "W\n",
            "o\n",
            "r\n",
            "l\n",
            "d\n",
            "!\n",
            "Número de caracteres: 13 \n"
          ]
        }
      ],
      "source": [
        "# Loop for usando string\n",
        "\n",
        "hello_world = \"Hello, World!\"\n",
        "\n",
        "# imprimir cada caracter\n",
        "for ch in hello_world:\n",
        "    print(ch)\n",
        "\n",
        "# contar a quantidade de caracteres usando loop\n",
        "length = 0\n",
        "for ch in hello_world:\n",
        "    length += 1\n",
        "print(\"Número de caracteres: %d \" % length)\n"
      ]
    },
    {
      "cell_type": "code",
      "execution_count": 21,
      "metadata": {
        "id": "Y-0HBHCN6DT8",
        "outputId": "e78d1e66-922c-4193-b098-b355b38ae711",
        "colab": {
          "base_uri": "https://localhost:8080/"
        }
      },
      "outputs": [
        {
          "output_type": "stream",
          "name": "stdout",
          "text": [
            "1\n",
            "2\n",
            "3\n",
            "4\n",
            "5\n",
            "6\n",
            "7\n"
          ]
        }
      ],
      "source": [
        "# Loop While\n",
        "numero = 1\n",
        "\n",
        "# imprimir de 1 a 7\n",
        "while numero <= 7:\n",
        "    print(numero)\n",
        "    numero += 1"
      ]
    },
    {
      "cell_type": "code",
      "source": [
        "# imprimir os quadrados menores que 25\n",
        "numero = 1\n",
        "quadrado = 1\n",
        "\n",
        "while quadrado <= 24:\n",
        "    quadrado = numero ** 2\n",
        "    print(\"Número %d - Quadrado %d\" % (numero, quadrado))\n",
        "    numero += 1\n",
        "\n",
        "print(\"Ao sair do while, numero tem o valor %d\" % numero)"
      ],
      "metadata": {
        "id": "oX4Fe0dzjVC7",
        "outputId": "cedfa07f-362d-4030-cacf-e4f7e520e6ca",
        "colab": {
          "base_uri": "https://localhost:8080/"
        }
      },
      "execution_count": 22,
      "outputs": [
        {
          "output_type": "stream",
          "name": "stdout",
          "text": [
            "Número 1 - Quadrado 1\n",
            "Número 2 - Quadrado 4\n",
            "Número 3 - Quadrado 9\n",
            "Número 4 - Quadrado 16\n",
            "Número 5 - Quadrado 25\n",
            "Ao sair do while, numero tem o valor 6\n"
          ]
        }
      ]
    },
    {
      "cell_type": "code",
      "execution_count": 23,
      "metadata": {
        "id": "iXJbCABu6DQi",
        "outputId": "d1b9ebe0-9a55-44c2-910e-96a5106a5e21",
        "colab": {
          "base_uri": "https://localhost:8080/"
        }
      },
      "outputs": [
        {
          "output_type": "stream",
          "name": "stdout",
          "text": [
            "0\n",
            "1\n",
            "2\n",
            "3\n",
            "4\n"
          ]
        }
      ],
      "source": [
        "# Break\n",
        "\n",
        "count = 0\n",
        "\n",
        "# loop infinito - nunca é False\n",
        "while True:\n",
        "    print(count)\n",
        "    count += 1\n",
        "    if count >= 5:\n",
        "      break # sai do loop"
      ]
    },
    {
      "cell_type": "code",
      "source": [
        "naipes = ['copas', 'ouros', 'espadas', 'paus']\n",
        "\n",
        "# loop infinito - nunca é False\n",
        "while True:\n",
        "    # pop(): retira e retorna o último item da lista\n",
        "    elemento = naipes.pop()\n",
        "    print(elemento)\n",
        "    if elemento == \"espadas\":\n",
        "        break"
      ],
      "metadata": {
        "id": "z96WNoEIkG25"
      },
      "execution_count": null,
      "outputs": []
    },
    {
      "cell_type": "code",
      "execution_count": null,
      "metadata": {
        "id": "bgQMCSeh6DEZ"
      },
      "outputs": [],
      "source": [
        "# Continue\n",
        "\n",
        "for i in range(5):\n",
        "    if i == 3:\n",
        "       continue # pula o resto do código e move para a próxima iteração do loop\n",
        "    print(i)"
      ]
    },
    {
      "cell_type": "code",
      "source": [
        "# imprimir somente os ímpares\n",
        "for x in range(10):\n",
        "    if (x % 2) == 0: # é par\n",
        "        # pula print(x) para este loop\n",
        "        continue\n",
        "    print(\"Número %d\" % x)"
      ],
      "metadata": {
        "id": "WE_0UsURkjqc"
      },
      "execution_count": null,
      "outputs": []
    },
    {
      "cell_type": "markdown",
      "metadata": {
        "id": "MSdvc_x67Ji-"
      },
      "source": [
        "## Funções"
      ]
    },
    {
      "cell_type": "code",
      "execution_count": null,
      "metadata": {
        "id": "s90NU2mX7Krn"
      },
      "outputs": [],
      "source": [
        "# Funções\n",
        "\n",
        "# definir uma função chamada hello_world\n",
        "def hello_world():\n",
        "    print(\"Hello, World!\")\n",
        "    print(\"Oi, Mundo!\")\n",
        "    print(\"Salut, Monde!\")\n",
        "    print(\"Hola, Mundo!\")\n",
        "\n",
        "# chamar a função 3 vezes\n",
        "for i in range(3):\n",
        "    hello_world()"
      ]
    },
    {
      "cell_type": "code",
      "execution_count": null,
      "metadata": {
        "id": "2V0gj8WR7sqw"
      },
      "outputs": [],
      "source": [
        "# Funções com parâmetros\n",
        "\n",
        "# x é um parâmetro\n",
        "def uma_funcao(x):\n",
        "    print(\"x = %d\" % x)\n",
        "\n",
        "# passar 5 para a função. Aqui, 5 é um argumento passado para a função\n",
        "uma_funcao(5)"
      ]
    },
    {
      "cell_type": "code",
      "execution_count": null,
      "metadata": {
        "id": "3mKcdhL17sv_"
      },
      "outputs": [],
      "source": [
        "# Funções com retorno\n",
        "\n",
        "# função que retorna a soma de dois números\n",
        "def soma(a, b):\n",
        "    return a + b\n",
        "\n",
        "c = soma(7, 5)\n",
        "print(\"c = %d\" % c)"
      ]
    },
    {
      "cell_type": "code",
      "execution_count": null,
      "metadata": {
        "id": "UEMy-AyA7s1I"
      },
      "outputs": [],
      "source": [
        "# Função com parâmetros default (padrão)\n",
        "\n",
        "def multiplica(a, b=2):\n",
        "    return a * b\n",
        "\n",
        "print(multiplica(5, 84))\n",
        "\n",
        "# como b tem um valor padrão, podemos passar apenas um argumento\n",
        "print(multiplica(7))"
      ]
    }
  ],
  "metadata": {
    "colab": {
      "provenance": [],
      "include_colab_link": true
    },
    "kernelspec": {
      "display_name": "Python 3",
      "name": "python3"
    }
  },
  "nbformat": 4,
  "nbformat_minor": 0
}